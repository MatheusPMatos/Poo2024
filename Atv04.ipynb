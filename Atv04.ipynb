{
 "cells": [
  {
   "cell_type": "markdown",
   "id": "c7ee3289-9b4f-4614-be87-f28d14196dc5",
   "metadata": {},
   "source": [
    "# Exercício 01\n",
    "<p style=\"text-align:justify;\">\n",
    "Crie um programa que armazene um vetor com as notas de dez alunos, calcule e imprima a média dessas notas e depois informe a quantidade de notas acima e abaixo da média calculada.\n",
    "</p>"
   ]
  },
  {
   "cell_type": "code",
   "execution_count": 1,
   "id": "ff67e1a8-6e02-4bc6-b061-51aaed7c7caa",
   "metadata": {
    "tags": []
   },
   "outputs": [
    {
     "name": "stdout",
     "output_type": "stream",
     "text": [
      "Média: 42.000000\tAcima da média:4\tabaixo:6"
     ]
    },
    {
     "data": {
      "text/plain": [
       "null"
      ]
     },
     "execution_count": 1,
     "metadata": {},
     "output_type": "execute_result"
    }
   ],
   "source": [
    "int soma = 0;\n",
    "int contador = 0;\n",
    "int [] notas = {10,80,90,40,20,20,30,20, 50, 60};\n",
    "for (int i = 0; i <notas.length; i++) {\n",
    "        soma+= notas[i]; \n",
    "}\n",
    "\n",
    "float media = soma/notas.length; \n",
    "\n",
    "for (int i = 0; i < notas.length; i++) {\n",
    "    if (notas[i]>=media) {\n",
    "        contador++;\n",
    "    }\n",
    "}\n",
    "System.out.printf(\"Média: %f\\tAcima da média:%d\\tabaixo:%d\",media, contador, notas.length-contador);"
   ]
  },
  {
   "cell_type": "markdown",
   "id": "f55a5fce-412b-40a9-abcb-008951e349ae",
   "metadata": {},
   "source": [
    "# Exercício 02\n",
    "<p style=\"text-align:justify;\">\n",
    "Construa uma classe em Java que seja capaz de efetuar a leitura de uma matriz de valores reais de tamanho 3 x 3, calculando seu determinante.\n",
    "</p>"
   ]
  },
  {
   "cell_type": "code",
   "execution_count": 1,
   "id": "f3140b7a-9ec1-4421-8c76-38520f87d539",
   "metadata": {},
   "outputs": [
    {
     "name": "stdout",
     "output_type": "stream",
     "text": [
      "14483.0\n"
     ]
    },
    {
     "data": {
      "text/plain": [
       "null"
      ]
     },
     "execution_count": 1,
     "metadata": {},
     "output_type": "execute_result"
    }
   ],
   "source": [
    "double[][] matriz = {{15.5, -2, 33}, {4.5, 50, -6}, {7.5, 80, 9.5}};\n",
    "\n",
    "        double det = 0;\n",
    "\n",
    "        det += matriz[0][0] * (matriz[1][1] * matriz[2][2] - matriz[1][2] * matriz[2][1]);\n",
    "        det -= matriz[0][1] * (matriz[1][0] * matriz[2][2] - matriz[1][2] * matriz[2][0]);\n",
    "        det += matriz[0][2] * (matriz[1][0] * matriz[2][1] - matriz[1][1] * matriz[2][0]);\n",
    "\n",
    "        System.out.println(det);"
   ]
  },
  {
   "cell_type": "markdown",
   "id": "7b9c1eef-464a-475c-b264-819c862a09bb",
   "metadata": {},
   "source": [
    "# Exercício 03\n",
    "<p style=\"text-align:justify;\">\n",
    "Faça uma classe contendo dois arrays do tipo inteiro, um chamado par e outro chamado ímpar. Cada array deve conter 10 elementos. A seguir, faça um laço de repetição com 10 iterações e que contenha internamente a geração randômica de números entre 1 e 20. Se o valor gerado for par, armazene no array chamado par, caso contrário, no array chamado impar. Ao final, apresente o conteúdo de cada um dos arrays.\n",
    "</p>"
   ]
  },
  {
   "cell_type": "code",
   "execution_count": 1,
   "id": "fe785da1-2ff1-4bd7-ab26-b007dcf05fc1",
   "metadata": {
    "tags": []
   },
   "outputs": [
    {
     "name": "stdout",
     "output_type": "stream",
     "text": [
      "\n",
      "Impar:\t13\t0\t0\t0\t0\t11\t0\t11\t0\t0\t\n",
      "Par:\t0\t0\t6\t4\t2\t0\t12\t0\t18\t2\t"
     ]
    },
    {
     "data": {
      "text/plain": [
       "null"
      ]
     },
     "execution_count": 1,
     "metadata": {},
     "output_type": "execute_result"
    }
   ],
   "source": [
    "   import java.util.Random;\n",
    "int [] par =new int [10];\n",
    "int [] impar =new int [10];\n",
    "\n",
    "Random rd = new Random();\n",
    "\n",
    "for (int i = 0; i <10; i++) {\n",
    "       int f = rd.nextInt(20);\n",
    "        if (f%2==0) {\n",
    "           par[i]=f; \n",
    "        }else{\n",
    "            impar[i]=f;\n",
    "        }; \n",
    "}\n",
    "System.out.printf(\"\\nImpar:\\t\");\n",
    "for (int j = 0; j < 10; j++) {\n",
    "   \n",
    "    System.out.printf(\"%d\\t\", impar[j]);\n",
    "}\n",
    "System.out.printf(\"\\nPar:\\t\");\n",
    "for (int j = 0; j < 10; j++) {\n",
    "    System.out.printf(\"%d\\t\",par[j]);\n",
    "}"
   ]
  },
  {
   "cell_type": "markdown",
   "id": "d062d462-4a98-4e65-8f3b-fe9c1a8e677e",
   "metadata": {},
   "source": [
    "# Exercício 04\n",
    "<p style=\"text-align:justify;\">\n",
    "Usando um array unidimensional de 10 elementos do tipo String, faça uma classe que simule a ocupação de um estacionamento de veículos. Considere que a posição do array corresponde ao número da vaga e para cada vaga é armazenada a placa do veículo que está estacionado. Sua classe deve conter um laço de repetição simulando um menu que controle a entrada e a saída dos veículos com as opções: 1-Entrada, 2-Saída e 3-Listar situação atual e 4-Encerrar o programa. Se o usuário escolher 1, solicite o número da vaga e a placa do veículo; se escolher 2, solicite o número da vaga que será liberada e armazene o valor branco na posição correspondente ao array; se escolher 3, liste a situação atual apresentando em tela todos os elementos do array; quando for 4, encerre o laço e o programa.\n",
    "</p>"
   ]
  },
  {
   "cell_type": "code",
   "execution_count": 4,
   "id": "64874188-7345-4348-8a4e-e9cb50d04ab2",
   "metadata": {
    "tags": []
   },
   "outputs": [
    {
     "name": "stdout",
     "output_type": "stream",
     "text": [
      "\n",
      "Digite: 1 para registrar um estacionamento\t2: para liberar uma vaga\t3: Para listar as vagas\t4: para encerrar o programa\n"
     ]
    },
    {
     "name": "stdin",
     "output_type": "stream",
     "text": [
      " 1\n"
     ]
    },
    {
     "name": "stdout",
     "output_type": "stream",
     "text": [
      "Digite o numero da vaga:\n"
     ]
    },
    {
     "name": "stdin",
     "output_type": "stream",
     "text": [
      " 2\n"
     ]
    },
    {
     "name": "stdout",
     "output_type": "stream",
     "text": [
      "Digite a placa do veiculo:\n"
     ]
    },
    {
     "name": "stdin",
     "output_type": "stream",
     "text": [
      " asdfasdf\n"
     ]
    },
    {
     "name": "stdout",
     "output_type": "stream",
     "text": [
      "\n",
      "Digite: 1 para registrar um estacionamento\t2: para liberar uma vaga\t3: Para listar as vagas\t4: para encerrar o programa\n"
     ]
    },
    {
     "name": "stdin",
     "output_type": "stream",
     "text": [
      " 3\n"
     ]
    },
    {
     "name": "stdout",
     "output_type": "stream",
     "text": [
      "Vaga:0\tPlaca:null\n",
      "Vaga:1\tPlaca:null\n",
      "Vaga:2\tPlaca:asdfasdf\n",
      "Vaga:3\tPlaca:null\n",
      "Vaga:4\tPlaca:null\n",
      "Vaga:5\tPlaca:null\n",
      "Vaga:6\tPlaca:null\n",
      "Vaga:7\tPlaca:null\n",
      "Vaga:8\tPlaca:null\n",
      "Vaga:9\tPlaca:null\n",
      "\n",
      "Digite: 1 para registrar um estacionamento\t2: para liberar uma vaga\t3: Para listar as vagas\t4: para encerrar o programa\n"
     ]
    },
    {
     "name": "stdin",
     "output_type": "stream",
     "text": [
      " 4\n"
     ]
    },
    {
     "name": "stdout",
     "output_type": "stream",
     "text": [
      "\n",
      "Programa encerrado"
     ]
    },
    {
     "data": {
      "text/plain": [
       "null"
      ]
     },
     "execution_count": 4,
     "metadata": {},
     "output_type": "execute_result"
    }
   ],
   "source": [
    "import java.util.Scanner;\n",
    "String [] lista =new String[10];\n",
    "\n",
    "Scanner sc = new Scanner(System.in);\n",
    "\n",
    "boolean on = true;\n",
    "while (on) {\n",
    "    System.out.printf(\"\\nDigite: 1 para registrar um estacionamento\\t2: para liberar uma vaga\\t3: Para listar as vagas\\t4: para encerrar o programa\\n\");\n",
    "    int n = sc.nextInt();\n",
    "       switch (n) {\n",
    "        case 1:\n",
    "        \n",
    "        System.out.println(\"Digite o numero da vaga:\");\n",
    "        int vaga= sc.nextInt();\n",
    "        System.out.println(\"Digite a placa do veiculo:\");\n",
    "        lista[vaga]=sc.next();\n",
    "        break;\n",
    "        case 2:\n",
    "        System.out.println(\"Digite o numero da vaga para liberar\");\n",
    "        lista[sc.nextInt()]=\"\";\n",
    "        break;\n",
    "        case 3:\n",
    "        for (int i = 0; i < lista.length; i++) {\n",
    "            System.out.printf(\"Vaga:%d\\tPlaca:%s\\n\",i,lista[i]);\n",
    "        }\n",
    "        break;\n",
    "        case 4:\n",
    "         on = false;\n",
    "         break;   \n",
    "        default:\n",
    "            System.out.println(\"Opção Inválida\");\n",
    "       }\n",
    "\n",
    "}\n",
    "sc.close();\n",
    "    System.out.printf(\"\\nPrograma encerrado\");"
   ]
  },
  {
   "cell_type": "markdown",
   "id": "c9fef6b4-44c6-468e-9384-0409416c0249",
   "metadata": {},
   "source": [
    "# Exercício 05\n",
    "<p style=\"text-align:justify;\">\n",
    "Uma imagem é formada por pixels. Considere uma imagem com dimensão de 40 x 40 e faça uma classe que contenha um array bidimensional com essas dimensões. A seguir, para cada posição\n",
    "desse array bidimensional armazene um valor aleatório entre 0 e 255 (esses valores correspondem às tonalidades aplicadas sobre a imagem). Apresente em tela os 1600 valores gerados.\n",
    "</p>"
   ]
  },
  {
   "cell_type": "code",
   "execution_count": 3,
   "id": "4147c7b9-502e-4105-953b-0ded7337f4b1",
   "metadata": {},
   "outputs": [
    {
     "name": "stdout",
     "output_type": "stream",
     "text": [
      "45 236 203 52 160 251 88 79 3 160 78 210 155 83 187 228 133 162 98 188 249 208 2 56 168 240 166 138 181 126 245 225 252 225 45 141 115 220 63 133 \n",
      "116 208 188 18 48 25 43 235 88 97 17 116 9 111 217 232 159 99 168 111 28 163 45 42 25 119 220 6 157 54 30 235 126 116 9 157 47 154 102 204 \n",
      "140 190 196 84 20 150 82 19 56 161 80 33 154 190 234 48 101 108 139 64 78 110 252 194 152 56 3 75 136 63 248 98 144 216 201 54 35 244 128 186 \n",
      "175 181 151 73 56 36 113 129 9 239 121 70 61 132 32 234 45 215 243 79 238 55 251 41 126 70 112 167 18 201 54 32 70 89 121 27 87 23 40 162 \n",
      "240 202 168 81 210 222 253 31 95 152 239 245 203 112 126 82 203 32 209 121 42 24 235 92 141 133 222 51 239 197 134 88 204 53 64 112 89 56 53 51 \n",
      "226 68 123 253 71 252 133 155 166 0 108 79 118 28 77 141 222 48 250 73 123 226 49 234 77 177 108 205 113 226 53 13 40 108 40 229 46 161 213 67 \n",
      "42 125 75 97 244 184 153 117 195 101 200 96 222 6 123 20 100 146 106 194 18 53 235 42 18 182 128 219 109 93 189 204 54 146 144 62 240 162 166 49 \n",
      "147 17 234 77 11 151 155 102 69 124 17 21 211 205 46 95 3 231 109 30 230 17 191 85 168 135 1 196 202 148 190 83 123 166 173 189 23 149 199 103 \n",
      "227 158 3 128 63 119 24 35 248 129 235 130 224 37 59 61 180 198 120 28 98 54 152 41 56 113 247 144 15 221 6 20 57 220 225 229 234 236 50 19 \n",
      "116 22 61 107 71 207 229 96 29 53 103 227 112 8 50 87 197 86 213 181 63 76 219 161 1 57 47 204 150 58 8 125 245 185 226 230 14 212 80 42 \n",
      "17 237 163 216 3 12 61 31 181 38 233 218 184 225 185 166 191 167 156 7 30 250 135 181 78 30 25 176 104 108 188 173 222 145 80 191 98 107 244 134 \n",
      "130 238 137 157 198 189 74 4 191 38 162 167 100 187 82 91 116 204 154 236 18 156 122 158 214 102 161 68 37 96 9 33 131 95 54 16 169 41 234 181 \n",
      "91 190 113 26 22 52 213 113 182 155 230 190 125 190 146 211 132 150 167 16 36 148 97 60 99 31 63 63 63 230 156 213 185 73 176 15 104 166 80 116 \n",
      "247 170 76 22 19 245 126 28 5 191 245 224 156 70 10 169 186 193 196 9 227 30 146 152 217 158 32 136 170 20 39 173 189 169 246 92 197 209 45 176 \n",
      "76 154 97 86 59 109 239 245 26 173 227 126 214 133 58 247 14 6 120 185 86 25 166 19 208 30 199 212 74 223 22 230 121 125 10 62 197 22 64 55 \n",
      "209 155 69 139 74 172 235 209 203 16 186 139 113 164 10 220 167 250 41 227 28 236 148 9 28 106 129 21 191 190 35 69 151 8 75 169 242 134 126 179 \n",
      "231 56 184 116 240 74 252 169 233 180 45 253 34 54 81 113 138 1 195 6 37 249 148 144 112 64 46 227 207 10 152 166 35 235 137 101 104 121 84 223 \n",
      "65 31 174 136 40 193 120 194 36 250 194 36 24 132 19 95 120 229 53 220 102 29 95 25 173 212 190 34 68 206 206 139 54 212 57 217 116 48 1 105 \n",
      "179 136 69 157 176 160 117 164 233 1 216 34 62 145 218 83 108 16 130 161 195 196 131 15 229 224 112 50 49 51 54 187 166 61 95 168 194 112 19 73 \n",
      "138 21 131 14 204 113 64 134 199 163 243 214 134 3 221 65 65 239 191 84 240 122 87 96 240 214 60 109 53 8 18 134 81 68 62 238 32 207 240 95 \n",
      "170 229 239 12 218 142 66 226 29 201 143 7 141 196 126 78 82 23 248 40 215 137 4 173 243 228 125 56 0 118 221 196 17 155 20 152 23 17 195 5 \n",
      "91 206 60 81 26 108 22 155 45 119 95 198 214 111 50 16 49 61 81 134 199 25 154 139 206 17 176 57 57 11 134 61 87 62 16 136 52 156 154 99 \n",
      "80 241 34 192 23 232 180 71 251 37 63 162 182 217 93 85 92 225 245 57 149 149 165 213 237 3 135 159 103 109 104 122 211 161 132 233 188 98 51 34 \n",
      "228 200 122 86 124 216 47 235 218 189 145 57 196 145 85 73 207 67 148 83 110 186 85 182 93 117 2 252 28 153 244 114 108 216 71 202 186 152 251 75 \n",
      "164 227 0 85 162 230 2 49 231 249 171 133 7 226 88 9 5 64 89 40 80 233 157 1 139 223 57 48 64 234 97 154 21 14 86 95 144 49 39 139 \n",
      "140 89 75 4 167 55 126 170 148 215 34 200 58 23 56 221 34 249 160 111 64 176 215 89 212 152 59 116 62 124 41 236 74 44 88 245 191 84 230 161 \n",
      "237 147 188 45 40 218 101 215 36 183 87 168 185 35 26 6 102 159 213 179 70 107 229 7 120 4 106 56 96 179 17 75 205 212 211 137 233 234 100 214 \n",
      "43 99 48 184 98 114 101 107 178 83 248 67 66 116 201 169 220 235 116 224 240 161 59 197 179 244 53 229 134 195 60 85 192 242 205 143 189 109 121 234 \n",
      "213 191 182 127 54 6 20 131 168 99 216 174 191 230 126 227 162 63 184 208 225 235 186 188 146 215 31 5 58 119 246 113 236 205 175 115 126 189 38 238 \n",
      "120 90 87 38 176 223 132 251 139 192 7 128 131 250 21 234 94 253 60 7 247 19 241 228 163 183 213 122 4 7 7 117 181 122 112 140 190 194 137 188 \n",
      "145 184 232 54 76 156 97 142 71 171 233 201 24 176 111 64 195 57 97 181 251 215 101 96 246 241 151 164 21 209 98 100 237 212 242 151 80 207 180 176 \n",
      "222 9 131 193 180 25 138 163 132 177 193 154 239 197 83 133 64 139 98 58 3 65 216 121 62 135 64 197 155 42 143 26 33 15 136 171 222 153 14 22 \n",
      "213 0 178 95 82 64 5 150 197 63 130 239 139 3 8 99 229 57 7 114 29 86 243 224 155 156 135 90 201 200 54 58 120 208 220 254 75 164 70 56 \n",
      "140 28 61 230 72 206 149 16 90 7 62 32 126 141 209 205 10 243 188 152 248 142 220 58 8 37 21 156 168 118 236 150 17 167 46 30 98 5 104 233 \n",
      "10 226 154 240 30 87 147 246 160 215 134 73 31 75 215 26 79 210 158 124 125 232 140 186 66 146 12 172 115 85 53 103 164 190 152 164 118 194 253 38 \n",
      "197 24 2 28 246 187 63 201 149 56 26 89 213 158 159 105 19 228 48 186 100 197 145 99 9 24 229 14 45 93 59 116 2 64 21 133 87 244 97 32 \n",
      "56 228 111 208 54 173 242 63 205 122 35 206 69 105 218 18 140 149 88 78 10 47 52 61 214 45 144 197 192 174 34 143 55 250 100 181 151 210 11 81 \n",
      "8 138 111 216 28 13 33 64 227 247 58 3 22 105 143 58 81 198 63 57 156 29 138 74 8 138 47 234 185 252 200 142 217 98 249 27 43 13 100 42 \n",
      "116 41 44 170 160 158 140 124 133 163 147 50 121 142 67 147 238 26 54 170"
     ]
    },
    {
     "name": "stderr",
     "output_type": "stream",
     "text": [
      "IOPub message rate exceeded.\n",
      "The Jupyter server will temporarily stop sending output\n",
      "to the client in order to avoid crashing it.\n",
      "To change this limit, set the config variable\n",
      "`--ServerApp.iopub_msg_rate_limit`.\n",
      "\n",
      "Current values:\n",
      "ServerApp.iopub_msg_rate_limit=1000.0 (msgs/sec)\n",
      "ServerApp.rate_limit_window=3.0 (secs)\n",
      "\n"
     ]
    }
   ],
   "source": [
    " import java.util.Random;\n",
    "int [][] lista =new int[40][40];\n",
    "\n",
    "Random sc = new Random();\n",
    "\n",
    "for (int i = 0; i < lista.length; i++) {\n",
    "    for (int j = 0; j < lista[0].length; j++) {\n",
    "        lista[i][j]= sc.nextInt(255);\n",
    "    }\n",
    "}\n",
    "\n",
    "for (int i = 0; i < lista.length; i++) {\n",
    "    for (int j = 0; j < lista[0].length; j++) {\n",
    "        System.out.printf(\"%d \",lista[i][j]);\n",
    "    }\n",
    "    System.out.println();\n",
    "}"
   ]
  },
  {
   "cell_type": "code",
   "execution_count": null,
   "id": "5e3d3950-150f-4932-9376-bd194cc4f7b5",
   "metadata": {},
   "outputs": [],
   "source": []
  }
 ],
 "metadata": {
  "kernelspec": {
   "display_name": "Java",
   "language": "java",
   "name": "java"
  },
  "language_info": {
   "codemirror_mode": "text/x-java",
   "file_extension": ".java",
   "mimetype": "",
   "name": "Java",
   "nbconverter_exporter": "",
   "version": "1.8.0_121"
  }
 },
 "nbformat": 4,
 "nbformat_minor": 5
}
