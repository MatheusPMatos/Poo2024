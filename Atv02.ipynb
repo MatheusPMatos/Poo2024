{
 "cells": [
  {
   "cell_type": "markdown",
   "id": "04689213-3104-4518-b399-8c1c86e4eace",
   "metadata": {},
   "source": [
    "# Exercício 01\n",
    "\n",
    "<p style=\"text-align:justify;\">\n",
    "Você é desafiado a criar uma classe em Java chamada ExercicioVariaveis que declare e inicialize variáveis de todos os tipos primitivos disponíveis na linguagem Java. Além disso, a classe deve utilizar caracteres especiais em algumas strings para demonstrar o uso adequado desses caracteres.\n",
    "\n",
    "Siga as instruções abaixo:\n",
    "</p>\n",
    "\n",
    "\n",
    "1. Declare e inicialize variáveis dos seguintes tipos primitivos:\n",
    "\n",
    "- int\n",
    "- long\n",
    "- float\n",
    "- double\n",
    "- char\n",
    "- boolean\n",
    "- byte\n",
    "- short\n",
    "- Exiba os valores das variáveis utilizando System.out.println.\n",
    "\n",
    "2. Utilize caracteres especiais em algumas strings para representar:\n",
    "\n",
    "- Caractere de nova linha (\\n)\n",
    "- Caractere de tabulação (\\t)\n",
    "- Caractere de aspas duplas (\")\n",
    "- Caractere de barra invertida (\\\\)\n",
    "- Certifique-se de que o código compila e execute corretamente.\n",
    "\n"
   ]
  },
  {
   "cell_type": "markdown",
   "id": "6a091ea4-7160-4a68-8e27-516281cdde44",
   "metadata": {},
   "source": [
    "# Exercício 02\n",
    "\n",
    "<p style=\"text-align:justify;\">\n",
    "Crie uma classe que efetue a leitura de um valor inteiro e outro real, exibindo-os no console.\n",
    "</p>\n"
   ]
  },
  {
   "cell_type": "code",
   "execution_count": 1,
   "id": "16f0ad2d-7f62-4f2a-bc7c-0adff558865a",
   "metadata": {
    "tags": []
   },
   "outputs": [
    {
     "name": "stdout",
     "output_type": "stream",
     "text": [
      "\u0000\n",
      "\n",
      "\u0000\t\n",
      "\u0000\t\n",
      "\u0000\" aspas \"\n",
      "\u0000 aspas \\\n"
     ]
    },
    {
     "data": {
      "text/plain": [
       "null"
      ]
     },
     "execution_count": 1,
     "metadata": {},
     "output_type": "execute_result"
    }
   ],
   "source": [
    "//public class Exercicio {\n",
    "   // public static void main(String[] args) {\n",
    "    \n",
    "        int um = 0;\n",
    "\n",
    "        long dois  = 0;\n",
    "\n",
    "        float tres = 0;\n",
    "\n",
    "        double quatro = 0;\n",
    "        char cinco = 0;\n",
    "        boolean seis = true;\n",
    "        byte  sete = (byte) 0;\n",
    "        short oito = 0;\n",
    "\n",
    "         System.out.println(String.format(\"%c\\n\", cinco));\n",
    "        System.out.println( String.format(\"%c\\t\", cinco));\n",
    "        System.out.println( String.format(\"%c\\t\", cinco));\n",
    "        System.out.println(String.format(\"%c\\\" aspas \\\"\", cinco));\n",
    "        System.out.println( String.format(\"%c aspas \\\\\", cinco));\n",
    "    //}\n",
    "//}"
   ]
  },
  {
   "cell_type": "code",
   "execution_count": 22,
   "id": "b1fc1c9c-1041-4489-ab5a-c6dbb117c46e",
   "metadata": {
    "tags": []
   },
   "outputs": [
    {
     "ename": "cannot find symbol",
     "evalue": "cannot find symbol",
     "output_type": "error",
     "text": "cannot find symbol\n  symbol:   variable Valor\n  location: class com.twosigma.beaker.javash.bkr0df99321.BeakerWrapperClass1261714175Id47512f075d3142a192ef16d6af1cf441\n Valor.valores(um, tres)\n ^    ^                   \n\nIllegal static declaration in inner class Valor\n  modifier 'static' is only allowed in constant variable declarations\n static void valores(int um, float dois) { System.out.printf(\"%d\\n\", um); System.out.printf(\"%f\\n\", dois); }\n ^                                                                                                          ^ \n\n",
     "traceback": [
      "\u001b[1;31mcannot find symbol\u001b[0;0m",
      "\u001b[1;31m  symbol:   variable Valor\u001b[0;0m",
      "\u001b[0;31m  location: class com.twosigma.beaker.javash.bkr0df99321.BeakerWrapperClass1261714175Id47512f075d3142a192ef16d6af1cf441\u001b[0;0m",
      "\u001b[0;31m Valor.valores(um, tres)\u001b[0;0m",
      "\u001b[0;31m ^    ^                   \u001b[0;0m",
      "\u001b[0;31m\u001b[0;0m",
      "\u001b[0;31mIllegal static declaration in inner class Valor\u001b[0;0m",
      "\u001b[0;31m  modifier 'static' is only allowed in constant variable declarations\u001b[0;0m",
      "\u001b[0;31m static void valores(int um, float dois) { System.out.printf(\"%d\\n\", um); System.out.printf(\"%f\\n\", dois); }\u001b[0;0m",
      "\u001b[0;31m ^                                                                                                          ^ \u001b[0;0m"
     ]
    }
   ],
   "source": [
    "int um = 10;\n",
    "float tres = (float) 100;\n",
    "Valor.valores(um, tres);\n",
    "\n",
    "class Valor {\n",
    "    static void valores(int um, float dois) {\n",
    "        System.out.printf(\"%d\\n\", um);\n",
    "        System.out.printf(\"%f\\n\", dois);\n",
    "    }\n",
    "}"
   ]
  },
  {
   "cell_type": "markdown",
   "id": "f4fa7c5f-f375-4dbd-9d41-c29e4aa530b8",
   "metadata": {},
   "source": [
    "# Exercício 03\n",
    "\n",
    "<p style=\"text-align:justify;\">\n",
    "Crie uma classe que receba o valor de um produto e a porcentagem de desconto, calcule e mostre o valor do desconto e o valor do produto com o desconto. \n",
    "</p>\n",
    "\n",
    "- Observação: o valor do desconto é calculado por meio da fórmula: \n",
    "    valor do desconto = valor do produto * percentual de desconto / 100."
   ]
  },
  {
   "cell_type": "code",
   "execution_count": 26,
   "id": "27572059-80fa-4edc-8b68-8a278f44beb2",
   "metadata": {
    "tags": []
   },
   "outputs": [
    {
     "ename": "illegal start of expression",
     "evalue": "illegal start of expression",
     "output_type": "error",
     "text": "illegal start of expression\n static class Desconto {\n ^                       \n\n",
     "traceback": [
      "\u001b[1;31millegal start of expression\u001b[0;0m",
      "\u001b[1;31m static class Desconto {\u001b[0;0m",
      "\u001b[1;31m ^                       \u001b[0;0m"
     ]
    }
   ],
   "source": [
    "//public class Exercicio {\n",
    "    //public static void main(String[] args) {\n",
    "    \n",
    "        float desconto = Desconto.desconto((float) 50.50,(float) 15.0);\n",
    "       System.out.printf(\"%f\", desconto);\n",
    "      \n",
    "\n",
    "        \n",
    "    //}\n",
    "\n",
    "     static class Desconto {\n",
    "\n",
    "        public static float desconto (float valor, float desconto){\n",
    "             return (valor*desconto)/100;\n",
    "         }\n",
    "         \n",
    "     }\n",
    "//}"
   ]
  },
  {
   "cell_type": "markdown",
   "id": "9fe1c075-7e1e-4ee7-ad63-82c57f315026",
   "metadata": {},
   "source": [
    "# Exercício 04\n",
    "\n",
    "<p style=\"text-align:justify;\">\n",
    "Crie uma classe que receba dois valores inteiros. \n",
    "</p>\n",
    "\n",
    "- O primeiro valor corresponde à quantidade de pontos do líder do campeonato brasileiro de futebol. \n",
    "\n",
    "- O segundo valor corresponde à quantidade de pontos do time lanterna. \n",
    "\n",
    "<p style=\"text-align:justify;\">\n",
    "- Considerando que cada vitória vale 3 pontos, calcule o número de vitórias necessárias para que o time lanterna alcance (ou ultrapasse) o líder. \n",
    "    \n",
    "- Por exemplo, supondo que as quantidades de ponto fornecidas sejam 40 e 22, então o número de vitórias apresentada na saída deverá ser 6, pois (40-22) / 3 = 6.\n",
    "</p>"
   ]
  },
  {
   "cell_type": "code",
   "execution_count": 27,
   "id": "5914c0ce-a615-4b29-804e-ef33d0791bcc",
   "metadata": {
    "jupyter": {
     "source_hidden": true
    },
    "tags": []
   },
   "outputs": [
    {
     "ename": "illegal start of expression",
     "evalue": "illegal start of expression",
     "output_type": "error",
     "text": "illegal start of expression\n static class Campeonato {\n ^                         \n\n",
     "traceback": [
      "\u001b[1;31millegal start of expression\u001b[0;0m",
      "\u001b[1;31m static class Campeonato {\u001b[0;0m",
      "\u001b[1;31m ^                         \u001b[0;0m"
     ]
    }
   ],
   "source": [
    "//public class Exercicio {\n",
    "    //public static void main(String[] args) {\n",
    "    \n",
    "       System.out.printf(\"%d\\n\", Campeonato.diferenca(40, 22));\n",
    "      \n",
    "\n",
    "        \n",
    "    //}\n",
    "\n",
    "     static class Campeonato {\n",
    "\n",
    "        public static int diferenca (int lider, int lanterna){\n",
    "            return (lider - lanterna) / 3;\n",
    "         }\n",
    "         \n",
    "     }\n",
    "//}"
   ]
  },
  {
   "cell_type": "markdown",
   "id": "4633896c-66f1-4a5c-84f4-de80d09b3a6b",
   "metadata": {},
   "source": [
    "# Exercício 05\n",
    "\n",
    "<p style=\"text-align:justify;\">\n",
    "Escreva instruções para realizar cada uma das tarefas a seguir:\n",
    "\n",
    "1. Declare que as variáveis c, thisIsAVariable, q76354 e number serão do tipo int.\n",
    "\n",
    "2. Solicite que o usuário insira um inteiro.\n",
    "\n",
    "3. Insira um inteiro e atribua o resultado à variável int value. Suponha que a variável Scanner input possa ser utilizada para ler um valor digitado pelo usuário.\n",
    "\n",
    "4. Imprima “Este é um programa em Java\" em uma linha na janela de comando. Use o método System.out.println.\n",
    "\n",
    "5. Imprima “Este é um programa em Java\" em duas linhas na janela de comando. Utilize o método System.out.printf e dois especificadores de formato %s.\n",
    "</p>\n"
   ]
  },
  {
   "cell_type": "markdown",
   "id": "42906d7e-d01b-49b2-bfef-ed4fdd6dab07",
   "metadata": {},
   "source": [
    "# Exercício 06 \n",
    "<p style=\"text-align:justify;\">\n",
    "Crie uma classe que solicite ao usuário inserir dois inteiros, obtenha dele esses números e imprima sua soma, produto, diferença e quociente (divisão).\n",
    "</p>"
   ]
  },
  {
   "cell_type": "code",
   "execution_count": 29,
   "id": "68cc1699-d585-40ea-b0d4-edd278538f20",
   "metadata": {},
   "outputs": [
    {
     "name": "stdin",
     "output_type": "stream",
     "text": [
      " 10\n"
     ]
    },
    {
     "name": "stdout",
     "output_type": "stream",
     "text": [
      "Este é um programa em java\n",
      "Este é um programa em java\n",
      "Este é um programa em java"
     ]
    },
    {
     "data": {
      "text/plain": [
       "null"
      ]
     },
     "execution_count": 29,
     "metadata": {},
     "output_type": "execute_result"
    }
   ],
   "source": [
    " import java.util.Scanner;    \n",
    "int c, thisIsAVariable, q76354, number;\n",
    "\n",
    "        Scanner sc = new Scanner(System.in);\n",
    "         c = sc.nextInt();\n",
    "        System.out.println(\"Este é um programa em java\");\n",
    "        System.out.printf(\"Este é um programa em java\\nEste é um programa em java\");"
   ]
  },
  {
   "cell_type": "markdown",
   "id": "db7c7f2a-c557-430a-ade4-8252198f95b5",
   "metadata": {},
   "source": [
    "# Exercício 07 \n",
    "\n",
    "Declare uma classe para calcular o produto de três inteiros.\n",
    "\n",
    "Siga as instruções abaixo:\n",
    "\n",
    "1. Crie um Scanner chamado input que leia valores a partir da entrada padrão.\n",
    "2. Declare as variáveis x, y, z e result como tipo int.\n",
    "3. Solicite que o usuário insira o primeiro inteiro.\n",
    "4. Leia o primeiro inteiro digitado pelo usuário e armazene-o na variável x.\n",
    "5. Solicite que o usuário insira o segundo inteiro.\n",
    "6. Leia o segundo inteiro digitado pelo usuário e armazene-o na variável y.\n",
    "7. Solicite que o usuário insira o terceiro inteiro.\n",
    "8. Leia o terceiro inteiro digitado pelo usuário e armazene-o na variável z.\n",
    "9. Compute o produto dos três inteiros contidos nas variáveis x, y e z e atribua o resultado à variável result.\n",
    "19. Use System.out.printf para exibir a mensagem “O valor do produto é” seguida pelo valor da variável result. "
   ]
  },
  {
   "cell_type": "code",
   "execution_count": 35,
   "id": "c421ee60-57dd-4674-8436-2e43e758e4f1",
   "metadata": {},
   "outputs": [
    {
     "ename": "illegal start of expression",
     "evalue": "illegal start of expression",
     "output_type": "error",
     "text": "illegal start of expression\n static class Produto {\n ^                      \n\n",
     "traceback": [
      "\u001b[1;31millegal start of expression\u001b[0;0m",
      "\u001b[1;31m static class Produto {\u001b[0;0m",
      "\u001b[1;31m ^                      \u001b[0;0m"
     ]
    }
   ],
   "source": [
    " import java.util.Scanner;  \n",
    "\n",
    "//public class Exercicio {\n",
    "    //public static void main(String[] args) {\n",
    "\n",
    "int x,y,z;\n",
    "\n",
    "        Scanner sc = new Scanner(System.in);\n",
    "         x = sc.nextInt();\n",
    "         y = sc.nextInt();\n",
    "         z = sc.nextInt();\n",
    "        \n",
    "        sc.close();\n",
    "        \n",
    "        int result = Produto.produto(x, y, z);\n",
    "\n",
    "        System.out.printf(\"O valor do produto é:%d\", result);\n",
    "    //}\n",
    "\n",
    "static class Produto {\n",
    "\n",
    "        public static int produto (int x,int y,int z){\n",
    "            return x * y * z;\n",
    "         }\n",
    "         \n",
    "     }\n",
    "//}"
   ]
  },
  {
   "cell_type": "code",
   "execution_count": null,
   "id": "0d415733-7c99-4d1f-b2be-4da5ca82a78b",
   "metadata": {},
   "outputs": [],
   "source": []
  }
 ],
 "metadata": {
  "kernelspec": {
   "display_name": "Java",
   "language": "java",
   "name": "java"
  },
  "language_info": {
   "codemirror_mode": "text/x-java",
   "file_extension": ".java",
   "mimetype": "",
   "name": "Java",
   "nbconverter_exporter": "",
   "version": "1.8.0_121"
  }
 },
 "nbformat": 4,
 "nbformat_minor": 5
}
